{
 "cells": [
  {
   "cell_type": "code",
   "execution_count": 1,
   "metadata": {
    "scrolled": true
   },
   "outputs": [
    {
     "name": "stdout",
     "output_type": "stream",
     "text": [
      "Populating the interactive namespace from numpy and matplotlib\n"
     ]
    }
   ],
   "source": [
    "%pylab inline\n",
    "from IPython.display import Audio\n",
    "import librosa\n",
    "import scipy as sp\n",
    "from numba import jit\n",
    "from scipy.spatial import distance\n",
    "\n",
    "figsize(20,6)\n",
    "from IPython.display import clear_output\n",
    "import dill as pickle"
   ]
  },
  {
   "cell_type": "code",
   "execution_count": 2,
   "metadata": {
    "scrolled": true
   },
   "outputs": [
    {
     "name": "stdout",
     "output_type": "stream",
     "text": [
      "['zhish.wav', 'kernelmix.wav', 'rocks.wav', 'boomwag.wav', 'snork.wav', 'insec3.wav', 'MacrosemiaTonk.wav', 'pattern10.wav', 'MeimunaNau.wav', 'backswing-old1.wav', 'audoubelclick2.wav', 'laboa.wav', 'swipe-old1.wav', 'Macrosemia.wav', 'revbell.wav', 'laekur.wav', 'birta.wav', 'clicks1.wav', 'clicko-old1.wav', 'bellx.wav', 'camina2.wav', 'dentist-old1.wav', 'heart.wav', 'electro.wav', 'bello.wav', 'camina1.wav', 'noinoi.wav', 'click.wav', 'InsectInfestationZG.wav', 'harshi-old1.wav', 'bellrip3.wav', 'iron.wav', 'patterndrone.wav', 'ausiclick.wav', 'knock.wav', 'rotatingIron.wav', 'firespark.wav', 'insec2.wav', 'camina4.wav', 'kicic.wav', 'phoo-old1.wav', 'bellrip2.wav', 'dalispark.wav', 'triplet.wav', 'glitch-old1.wav', 'ice.wav', 'Cryptotympana.wav', 'vindvabd.wav', 'pattern11.wav', 'camina3.wav', 'paper.wav', 'InsectFly.wav', 'skake2Ed.wav', 'kicicboom.wav', 'bellrip.wav', 'holeMONO.wav', 'spark.wav', 'elstatic-old1.wav', 'jump.wav', 'drr.wav', 'boom2.wav', 'flash-old1.wav', 'pattern8.wav', 'harshlow-old1.wav', 'zzzz.wav', 'crickBee.wav', 'convol2.wav', 'sweetmachine-old1.wav', 'kernel.wav', 'auclick.wav', 'InsecticideZG.wav', 'spade.wav', 'rain_ravi.wav', 'convol4.wav', 'InsectBee.wav', 'pork.wav', 'ironrip.wav', 'digaa.wav', 'wooo-old1.wav', 'dorje.wav', 'convol1.wav', 'auboom2.wav', 'bee.wav', 'clicko.wav', 'xylophone.wav', 'audoubleclick.wav', 'crackle3.wav', 'vindvaclick.wav', 'kernel2.wav', 'patterndrone3.wav', 'insectzapZG.wav', 'vindvahat.wav', 'auboom.wav', 'pattern9.wav', 'drone2.wav', 'magnetclock-old1.wav', 'convol5.wav', 'click-old1.wav', 'noise2.wav', 'blade-old1.wav', 'noise1.wav', 'kicic2.wav', 'CARinsect.wav', 'insec.wav', 'firespark2.wav', 'camclick-old1.wav', 'InsectBee2.wav', 'noise-old1.wav', 'auhiclick.wav', 'vindvadbase.wav', 'Dundunia.wav', 'convol3.wav', 'patterndrone2.wav', 'kerneldrone.wav', 'ravi.wav', 'machine.wav', 'boom.wav', 'chain.wav', 'firecrack.wav', 'woodsamp.wav', 'hapsi.wav', 'stretch.wav', 'drone1.wav', 'snow.wav', 'viromachine-old1.wav', 'chainSpade.wav', 'vindva.wav']\n"
     ]
    }
   ],
   "source": [
    "import os\n",
    "relevant_path = \"audios/ixi\"\n",
    "ixiFiles = [fn for fn in os.listdir(relevant_path)\n",
    "              if fn.endswith('wav')]\n",
    "print(ixiFiles)\n"
   ]
  },
  {
   "cell_type": "code",
   "execution_count": 3,
   "metadata": {
    "collapsed": true,
    "scrolled": true
   },
   "outputs": [],
   "source": [
    "def ixistr(id):\n",
    "    return str(id) + \"_\" + ixiFiles[id] + \"_\""
   ]
  },
  {
   "cell_type": "code",
   "execution_count": 4,
   "metadata": {
    "collapsed": true,
    "scrolled": true
   },
   "outputs": [],
   "source": [
    "def nrmse(output,target):\n",
    "    combinedVar = 0.5 * (np.var(target, ddof=1) + np.var(output, ddof=1))\n",
    "    errorSignal = output - target\n",
    "    return np.sqrt(np.mean(errorSignal ** 2) / combinedVar)\n",
    "sr = 22050\n",
    "def compareMFCCs(seq1, seq2, hop=64):\n",
    "    fftSize=2048\n",
    "    melspec = librosa.feature.melspectrogram(y=seq1, sr=sr, n_fft=fftSize,hop_length=hop)\n",
    "    mfccs = librosa.feature.mfcc(S=melspec,n_mfcc=20)[1:,:]\n",
    "    melspec2 = librosa.feature.melspectrogram(y=seq2, sr=sr, n_fft=fftSize,hop_length=hop)\n",
    "    mfccs2 = librosa.feature.mfcc(S=melspec2,n_mfcc=20)[1:,:]    \n",
    "    return nrmse(mfccs.flatten(), mfccs2.flatten())\n",
    "        \n"
   ]
  },
  {
   "cell_type": "code",
   "execution_count": null,
   "metadata": {
    "collapsed": true,
    "scrolled": false
   },
   "outputs": [],
   "source": [
    "%%time\n",
    "fbSynthScores = zeros(len(ixiFiles))\n",
    "cSynthScores = zeros(len(ixiFiles))\n",
    "fileLengths = zeros(len(ixiFiles))\n",
    "\n",
    "for currentIxi in range(len(ixiFiles)):\n",
    "# for currentIxi in range(10):\n",
    "    print(\"loading: \", ixiFiles[currentIxi], currentIxi)\n",
    "    import dill as pickle\n",
    "    with open(\"fbsynthResults/resultsFinal/\" + ixistr(currentIxi) + \"model.dill.pickled\", \"rb\") as input_file:    \n",
    "        fbmodel = pickle.load(input_file)\n",
    "    with open(\"csynthResults/results2019-02-24 12:38:21.504030/\" + ixistr(currentIxi) + \"model2.dill.pickled\", \"rb\") as input_file:    \n",
    "        cmodel = pickle.load(input_file)\n",
    "    fileLengths[currentIxi] = cmodel['original'].shape[0]\n",
    "    fbSynthScores[currentIxi] = fbmodel['winner']['bestResult']['error']\n",
    "    cSynthScores[currentIxi] = cmodel['winner']['error']\n",
    "    print(\"fb error:\\t\" + str(fbSynthScores[currentIxi]), \"\\tc error:\\t\", str(cSynthScores[currentIxi]));\n"
   ]
  },
  {
   "cell_type": "code",
   "execution_count": 10,
   "metadata": {
    "scrolled": true
   },
   "outputs": [
    {
     "name": "stdout",
     "output_type": "stream",
     "text": [
      "0.5678119457855094\n",
      "0.542062966929134\n",
      "0.5355412194046704\n",
      "0.4824226\n"
     ]
    }
   ],
   "source": [
    "print(mean(fbSynthScores))\n",
    "print(mean(cSynthScores))\n",
    "print(median(fbSynthScores))\n",
    "print(median(cSynthScores))\n"
   ]
  },
  {
   "cell_type": "code",
   "execution_count": 11,
   "metadata": {
    "scrolled": true
   },
   "outputs": [
    {
     "data": {
      "text/plain": [
       "[<matplotlib.lines.Line2D at 0x7fe60aec6898>]"
      ]
     },
     "execution_count": 11,
     "metadata": {},
     "output_type": "execute_result"
    },
    {
     "data": {
      "image/png": "[encoded data removed]",
      "text/plain": [
       "<Figure size 432x288 with 1 Axes>"
      ]
     },
     "metadata": {
      "needs_background": "light"
     },
     "output_type": "display_data"
    }
   ],
   "source": [
    "plot(sort(fbSynthScores))\n",
    "plot(sort(cSynthScores))\n"
   ]
  },
  {
   "cell_type": "code",
   "execution_count": 12,
   "metadata": {
    "scrolled": true
   },
   "outputs": [
    {
     "data": {
      "image/png": "[encoded data removed]",
      "text/plain": [
       "<Figure size 432x288 with 1 Axes>"
      ]
     },
     "metadata": {},
     "output_type": "display_data"
    }
   ],
   "source": [
    "import seaborn as sns\n",
    "sns.set(style=\"whitegrid\")\n",
    "data = np.array([sort(cSynthScores)[:-5], sort(fbSynthScores)[:-5]])\n",
    "ax = sns.boxplot(data=data.T,orient='h')"
   ]
  },
  {
   "cell_type": "code",
   "execution_count": null,
   "metadata": {
    "collapsed": true,
    "scrolled": false
   },
   "outputs": [],
   "source": [
    "figsize(20,10)\n",
    "import seaborn as sns\n",
    "sns.set(style=\"whitegrid\")\n",
    "\n",
    "ax = sns.violinplot(data=data.T,orient='h', inner=\"stick\", cut=0, bw=0.1)\n",
    "ax.set_xlabel(\"MFCC Error\", fontsize=16)\n",
    "ax.set_ylabel(\"Model\", fontsize=20)\n",
    "ax.set_yticklabels([\"CCRNN\",\"ESNSPF\"], fontsize=16)\n",
    "plt.savefig(\"tmp/resultsViolin.pdf\", bbox_inches='tight')"
   ]
  },
  {
   "cell_type": "code",
   "execution_count": 14,
   "metadata": {
    "scrolled": true
   },
   "outputs": [
    {
     "name": "stdout",
     "output_type": "stream",
     "text": [
      "Statistics=3872.000, p=0.644\n"
     ]
    }
   ],
   "source": [
    "from scipy.stats import wilcoxon, mannwhitneyu\n",
    "stat, p = wilcoxon(cSynthScores, fbSynthScores)\n",
    "print('Statistics=%.3f, p=%.3f' % (stat, p))"
   ]
  }
 ],
 "metadata": {
  "kernelspec": {
   "display_name": "Python 3",
   "language": "python",
   "name": "python3"
  },
  "language_info": {
   "codemirror_mode": {
    "name": "ipython",
    "version": 3
   },
   "file_extension": ".py",
   "mimetype": "text/x-python",
   "name": "python",
   "nbconvert_exporter": "python",
   "pygments_lexer": "ipython3",
   "version": "3.6.1"
  }
 },
 "nbformat": 4,
 "nbformat_minor": 2
}
